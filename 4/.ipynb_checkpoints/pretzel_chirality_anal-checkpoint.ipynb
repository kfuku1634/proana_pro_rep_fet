{
 "cells": [
  {
   "cell_type": "code",
   "execution_count": 2,
   "metadata": {},
   "outputs": [],
   "source": [
    "import matplotlib.pyplot as plt\n",
    "import os"
   ]
  },
  {
   "cell_type": "code",
   "execution_count": 3,
   "metadata": {},
   "outputs": [],
   "source": [
    "motifs_topoloty = [ \"3142++--\", \"1324++--\", \"1423+--+\", \"4132+--+\"]\n",
    "motifs_topoloty = motifs_topoloty[::-1]\n",
    "\n",
    "motifs_ig_weight_arr=[]\n",
    "for topology in motifs_topoloty:\n",
    "    if os.path.getsize(\"{}_ig.fet\".format(topology)) == 0:\n",
    "        motifs_ig_weight_arr.append(0)\n",
    "        continue\n",
    "    else:\n",
    "        weight=0\n",
    "        for i in open(\"{}_ig.fet\".format(topology)):\n",
    "            line    = i.split()\n",
    "            Open_or_Barrel = line[5]\n",
    "            if Open_or_Barrel == \"Barrel\":\n",
    "                continue\n",
    "            weight += 1.0/float(line[20])\n",
    "        motifs_ig_weight_arr.append(weight)"
   ]
  },
  {
   "cell_type": "code",
   "execution_count": 4,
   "metadata": {},
   "outputs": [
    {
     "data": {
      "text/plain": [
       "[0.6504868549172347, 0.246978021978022, 0, 0]"
      ]
     },
     "execution_count": 4,
     "metadata": {},
     "output_type": "execute_result"
    }
   ],
   "source": [
    "motifs_ig_weight_arr"
   ]
  },
  {
   "cell_type": "code",
   "execution_count": 5,
   "metadata": {},
   "outputs": [
    {
     "data": {
      "text/plain": [
       "<BarContainer object of 4 artists>"
      ]
     },
     "execution_count": 5,
     "metadata": {},
     "output_type": "execute_result"
    },
    {
     "data": {
      "image/png": "[encoded data removed]",
      "text/plain": [
       "<Figure size 432x288 with 1 Axes>"
      ]
     },
     "metadata": {
      "needs_background": "light"
     },
     "output_type": "display_data"
    }
   ],
   "source": [
    "ax = plt.subplot(111)\n",
    "left  = [ i for i in range(len(motifs_ig_weight_arr))]\n",
    "label = [ \" \" for i in range(len(motifs_ig_weight_arr))]\n",
    "ax.bar(left, motifs_ig_weight_arr,tick_label=label, color=\"coral\")"
   ]
  },
  {
   "cell_type": "code",
   "execution_count": null,
   "metadata": {},
   "outputs": [],
   "source": []
  }
 ],
 "metadata": {
  "kernelspec": {
   "display_name": "Python 3",
   "language": "python",
   "name": "python3"
  },
  "language_info": {
   "codemirror_mode": {
    "name": "ipython",
    "version": 3
   },
   "file_extension": ".py",
   "mimetype": "text/x-python",
   "name": "python",
   "nbconvert_exporter": "python",
   "pygments_lexer": "ipython3",
   "version": "3.7.3"
  }
 },
 "nbformat": 4,
 "nbformat_minor": 2
}
