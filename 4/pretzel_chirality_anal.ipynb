{
 "cells": [
  {
   "cell_type": "code",
   "execution_count": 6,
   "metadata": {},
   "outputs": [],
   "source": [
    "import matplotlib.pyplot as plt\n",
    "import os"
   ]
  },
  {
   "cell_type": "code",
   "execution_count": 3,
   "metadata": {},
   "outputs": [],
   "source": [
    "motifs_topoloty = [ \"3142++--\", \"1324++--\", \"1423+--+\", \"4132+--+\"]\n",
    "motifs_topoloty = motifs_topoloty[::-1]\n",
    "\n",
    "motifs_ig_weight_arr=[]\n",
    "for topology in motifs_topoloty:\n",
    "    if os.path.getsize(\"{}_ig.fet\".format(topology)) == 0:\n",
    "        motifs_ig_weight_arr.append(0)\n",
    "        continue\n",
    "    else:\n",
    "        weight=0\n",
    "        for i in open(\"{}_ig.fet\".format(topology)):\n",
    "            line    = i.split()\n",
    "            Open_or_Barrel = line[5]\n",
    "            if Open_or_Barrel == \"Barrel\":\n",
    "                continue\n",
    "            weight += 1.0/float(line[20])\n",
    "            \n",
    "        motifs_ig_weight_arr.append(weight)"
   ]
  }
 ],
 "metadata": {
  "kernelspec": {
   "display_name": "Python 3",
   "language": "python",
   "name": "python3"
  },
  "language_info": {
   "codemirror_mode": {
    "name": "ipython",
    "version": 3
   },
   "file_extension": ".py",
   "mimetype": "text/x-python",
   "name": "python",
   "nbconvert_exporter": "python",
   "pygments_lexer": "ipython3",
   "version": "3.7.3"
  }
 },
 "nbformat": 4,
 "nbformat_minor": 2
}
